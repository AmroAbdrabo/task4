{
 "cells": [
  {
   "cell_type": "code",
   "execution_count": 1,
   "metadata": {},
   "outputs": [
    {
     "name": "stdout",
     "output_type": "stream",
     "text": [
      "Collecting pyEDFlib\n",
      "  Downloading pyEDFlib-0.1.20.tar.gz (1.2 MB)\n",
      "\u001b[K     |████████████████████████████████| 1.2 MB 1.8 MB/s eta 0:00:01\n",
      "\u001b[?25h  Installing build dependencies ... \u001b[?25ldone\n",
      "\u001b[?25h  Getting requirements to build wheel ... \u001b[?25ldone\n",
      "\u001b[?25h    Preparing wheel metadata ... \u001b[?25ldone\n",
      "\u001b[?25hRequirement already satisfied: numpy>=1.9.1 in /Users/amroa/opt/anaconda3/lib/python3.7/site-packages (from pyEDFlib) (1.18.1)\n",
      "Building wheels for collected packages: pyEDFlib\n",
      "  Building wheel for pyEDFlib (PEP 517) ... \u001b[?25ldone\n",
      "\u001b[?25h  Created wheel for pyEDFlib: filename=pyEDFlib-0.1.20-cp37-cp37m-macosx_10_9_x86_64.whl size=601848 sha256=c9a70a8af1ffd5576079ca5cf78a46ab94ab043618d73ed16b6afca9a277e3c9\n",
      "  Stored in directory: /Users/amroa/Library/Caches/pip/wheels/48/20/26/d79aeb806447c17ab029d9ba5f59cf5b26e39d7dc1b5cb6c72\n",
      "Successfully built pyEDFlib\n",
      "Installing collected packages: pyEDFlib\n",
      "Successfully installed pyEDFlib-0.1.20\n"
     ]
    }
   ],
   "source": [
    "!pip install pyEDFlib"
   ]
  },
  {
   "cell_type": "code",
   "execution_count": 3,
   "metadata": {},
   "outputs": [
    {
     "data": {
      "text/plain": [
       "True"
      ]
     },
     "execution_count": 3,
     "metadata": {},
     "output_type": "execute_result"
    }
   ],
   "source": [
    "from pyedflib import highlevel\n",
    "import numpy as np\n",
    "# write an edf file\n",
    "#signals = np.random.rand(5, 256*300)*200 # 5 minutes of random signal\n",
    "#channel_names = ['EEG1', 'ch2', 'ch3', 'ch4', 'ch5']\n",
    "#signal_headers = highlevel.make_signal_headers(channel_names, sample_rate=256)\n",
    "#header = highlevel.make_header(patientname='patient_x', gender='Female')\n",
    "#highlevel.write_edf('edf_file.edf', signals, signal_headers)\n"
   ]
  },
  {
   "cell_type": "code",
   "execution_count": 2,
   "metadata": {},
   "outputs": [],
   "source": [
    "import pandas as pd\n",
    "eeg1_t = pd.read_csv(\"test_eeg1.csv\").iloc[:, 1:]\n",
    "eeg2_t = pd.read_csv(\"test_eeg2.csv\").iloc[:, 1:]\n",
    "emg_t = pd.read_csv(\"test_emg.csv\").iloc[:, 1:]"
   ]
  },
  {
   "cell_type": "code",
   "execution_count": 3,
   "metadata": {},
   "outputs": [],
   "source": [
    "eeg1_t = eeg1_t.values\n",
    "eeg2_t = eeg2_t.values\n",
    "emg_t = emg_t.values"
   ]
  },
  {
   "cell_type": "code",
   "execution_count": 4,
   "metadata": {},
   "outputs": [],
   "source": [
    "eeg1_f  = eeg1_t.flatten()\n",
    "eeg2_f = eeg2_t.flatten()\n",
    "emg_f = emg_t.flatten()\n"
   ]
  },
  {
   "cell_type": "code",
   "execution_count": 5,
   "metadata": {},
   "outputs": [
    {
     "name": "stdout",
     "output_type": "stream",
     "text": [
      "(22118400,)\n"
     ]
    }
   ],
   "source": [
    "print(eeg1_f.shape)"
   ]
  },
  {
   "cell_type": "code",
   "execution_count": 6,
   "metadata": {},
   "outputs": [
    {
     "name": "stdout",
     "output_type": "stream",
     "text": [
      "(43200, 512)\n"
     ]
    }
   ],
   "source": [
    "print(eeg1_t.shape)"
   ]
  },
  {
   "cell_type": "code",
   "execution_count": 7,
   "metadata": {},
   "outputs": [
    {
     "name": "stdout",
     "output_type": "stream",
     "text": [
      "[3.1e-05 1.7e-04 3.7e-04]\n"
     ]
    }
   ],
   "source": [
    "print(eeg1_f[0:3])"
   ]
  },
  {
   "cell_type": "code",
   "execution_count": 9,
   "metadata": {},
   "outputs": [
    {
     "name": "stdout",
     "output_type": "stream",
     "text": [
      "(3,)\n"
     ]
    }
   ],
   "source": [
    "import numpy as np\n",
    "j = np.array([1, 2, 3])\n",
    "print(j.shape)"
   ]
  },
  {
   "cell_type": "code",
   "execution_count": null,
   "metadata": {},
   "outputs": [],
   "source": []
  }
 ],
 "metadata": {
  "kernelspec": {
   "display_name": "Python 3",
   "language": "python",
   "name": "python3"
  },
  "language_info": {
   "codemirror_mode": {
    "name": "ipython",
    "version": 3
   },
   "file_extension": ".py",
   "mimetype": "text/x-python",
   "name": "python",
   "nbconvert_exporter": "python",
   "pygments_lexer": "ipython3",
   "version": "3.7.6"
  }
 },
 "nbformat": 4,
 "nbformat_minor": 4
}
