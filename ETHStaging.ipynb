{
 "cells": [
  {
   "cell_type": "code",
   "execution_count": 1,
   "metadata": {},
   "outputs": [],
   "source": [
    "from sklearn.model_selection import GridSearchCV\n",
    "from sklearn.ensemble import GradientBoostingClassifier\n",
    "from sklearn.exceptions import DataConversionWarning\n",
    "import warnings\n",
    "import pandas as pd\n",
    "from pywt import wavedec\n",
    "from pywt import waverec\n",
    "from sklearn.preprocessing import StandardScaler\n",
    "from imblearn.under_sampling import RandomUnderSampler\n",
    "from sklearn.ensemble import VotingClassifier\n",
    "from keras.utils import to_categorical\n",
    "import pywt\n",
    "import scipy\n",
    "from sklearn.discriminant_analysis import LinearDiscriminantAnalysis\n",
    "import biosppy as bp\n",
    "#from keras.utils import plot_model #plot_model(model, to_file='model.png')\n",
    "from imblearn.pipeline import Pipeline\n",
    "from imblearn.over_sampling import SVMSMOTE\n",
    "import pylab as pl\n",
    "from sklearn.utils import resample\n",
    "from sklearn.decomposition import IncrementalPCA\n",
    "from sklearn.decomposition import PCA\n",
    "from sklearn.impute import SimpleImputer\n",
    "import matplotlib.pyplot as plt\n",
    "import numpy as np\n",
    "import tensorflow as tf\n",
    "from sklearn.svm import SVC\n",
    "from biosppy.signals import tools"
   ]
  },
  {
   "cell_type": "code",
   "execution_count": 2,
   "metadata": {},
   "outputs": [],
   "source": [
    "eeg1 = pd.read_csv(\"train_eeg1.csv\").iloc[:, 1:]\n",
    "eeg2 = pd.read_csv(\"train_eeg2.csv\").iloc[:, 1:]\n",
    "emg  = pd.read_csv(\"train_emg.csv\").iloc[:, 1:]\n",
    "df_y = pd.read_csv(\"train_labels.csv\").iloc[:, 1:]\n",
    "\n",
    "eeg1_t = pd.read_csv(\"test_eeg1.csv\").iloc[:, 1:]\n",
    "eeg2_t = pd.read_csv(\"test_eeg2.csv\").iloc[:, 1:]\n",
    "emg_t = pd.read_csv(\"test_emg.csv\").iloc[:, 1:]"
   ]
  },
  {
   "cell_type": "markdown",
   "metadata": {},
   "source": [
    "## Brief description of all the features that will be extracted\n",
    "Mean power of all frequencies within the band and power maximum (i.e. power of the dominant frequency) for each of the ten frequency bands.\n",
    "\n",
    "We further calculated the ratio of theta band (4.5–8.5 Hz) power divided by delta band (1–4 Hz) power which is frequently used in sleep scoring, including commercial programs based on threshold formulas.\n",
    "\n",
    "From band pass filtered PAA data the following four parameters were calculated for each of the ten frequency bands: \n",
    "\n",
    "1) number of baseline crossings per second;\n",
    "\n",
    "2) durationbetween two consecutive baseline crossings; \n",
    "\n",
    "3) integrated amplitude of half-waves; and \n",
    "\n",
    "4) maximal amplitude of half-waves. \n",
    "\n",
    "We also calculated the ratio between integrated halfwave-amplitudes in the theta band and in the delta range, respectively. \n",
    "\n",
    "Further, we calculated a parameter for regularity of rhythmic activity for each of the ten frequency bands.\n",
    "\n",
    "This rhythm score was computed as the number of baseline crossings per second multiplied by the interval between consecutive zero crossings. Oscillations with stable frequency during the entire epoch length would lead to a rhythm score of 1. \n",
    "\n",
    "The integrated amplitude of the neck muscle EMG com-pleted the set of parameters, resulting in a total of 73 variables"
   ]
  },
  {
   "cell_type": "code",
   "execution_count": 3,
   "metadata": {},
   "outputs": [],
   "source": [
    "eeg1 = eeg1.values\n",
    "eeg2 = eeg2.values\n",
    "emg = emg.values\n",
    "y = df_y.values\n",
    "\n",
    "eeg1_t = eeg1_t.values\n",
    "eeg2_t = eeg2_t.values\n",
    "emg_t = emg_t.values"
   ]
  },
  {
   "cell_type": "code",
   "execution_count": 4,
   "metadata": {},
   "outputs": [
    {
     "name": "stdout",
     "output_type": "stream",
     "text": [
      "(32400, 1024)\n",
      "(32400, 1024)\n",
      "(32400, 1024)\n"
     ]
    }
   ],
   "source": [
    "def concat_epochs(eeg1, eeg2, emg):\n",
    "    num_epochs = len(eeg1)\n",
    "    \n",
    "    eeg1_transformed = []\n",
    "    eeg2_transformed = []\n",
    "    emg_transformed = []\n",
    "    \n",
    "    for i in range(0, num_epochs):\n",
    "        if i == num_epochs - 1:\n",
    "            epoch1, epoch2  = i-1, i\n",
    "        else:\n",
    "            epoch1, epoch2= i, i+1\n",
    "        \n",
    "        eeg1_epochs = np.concatenate((eeg1[epoch1], eeg1[epoch2]))\n",
    "        eeg1_transformed.append(eeg1_epochs)\n",
    "    \n",
    "        eeg2_epochs = np.concatenate((eeg2[epoch1], eeg2[epoch2]))\n",
    "        eeg2_transformed.append(eeg2_epochs)\n",
    "    \n",
    "        emg_epochs = np.concatenate((emg[epoch1], emg[epoch2]))\n",
    "        emg_transformed.append(emg_epochs)\n",
    "    \n",
    "    return np.array(eeg1_transformed), np.array(eeg2_transformed), np.array(emg_transformed)\n",
    "\n",
    "eeg1_8, eeg2_8, emg_8  = concat_epochs(np_eeg1, np_eeg2, np_emg)  \n",
    "\n",
    "#eeg1_8, eeg2_8, emg_8 = segment(eeg1, eeg2, emg)   # _8 short for 8-seconds\n",
    "print(eeg1_8.shape)\n",
    "print(eeg2_8.shape)\n",
    "print(emg_8.shape)\n",
    "\n",
    "eeg1_8test, eeg2_8test, emg_8test = concat_epochs(np_eeg1, np_eeg2, np_emg)  "
   ]
  },
  {
   "cell_type": "markdown",
   "metadata": {},
   "source": [
    "### Part 1 of 2 (feature extraction): Power spectral analysis"
   ]
  },
  {
   "cell_type": "code",
   "execution_count": 5,
   "metadata": {},
   "outputs": [],
   "source": [
    "# The neck muscle EMG activity was high pass filtered (30–70 Hz)"
   ]
  },
  {
   "cell_type": "code",
   "execution_count": 6,
   "metadata": {},
   "outputs": [],
   "source": [
    "def filter_emg(row):\n",
    "    filtered = tools.filter_signal(row, ftype = 'butter', band = 'highpass', order = 8, frequency = 30, sampling_rate = 128)\n",
    "    return filtered[0]\n",
    "filtered_emg = np.apply_along_axis(filter_emg, axis = 1, arr = emg_8)\n",
    "filtered_emg_t = np.apply_along_axis(filter_emg, axis = 1, arr = emg_8test)"
   ]
  },
  {
   "cell_type": "code",
   "execution_count": 7,
   "metadata": {},
   "outputs": [
    {
     "name": "stdout",
     "output_type": "stream",
     "text": [
      "(32400, 1024)\n"
     ]
    }
   ],
   "source": [
    "print(filtered_emg.shape)"
   ]
  },
  {
   "cell_type": "code",
   "execution_count": 8,
   "metadata": {},
   "outputs": [],
   "source": [
    "\n",
    "def get_freq_in_range(band, row):\n",
    "    if (band == 'delta'):  #  case 1\n",
    "        res = tools.filter_signal(row, ftype = 'butter', band = 'bandpass', order = 8, frequency = [1, 4], sampling_rate = 128)\n",
    "        return res[0]\n",
    "    elif (band  == 'theta'): # case 2\n",
    "        res = tools.filter_signal(row, ftype = 'butter', band = 'bandpass', order = 8, frequency = [4.5, 8.5], sampling_rate = 128)\n",
    "        return res[0]\n",
    "    elif (band == 'theta1'): # case 3\n",
    "        res = tools.filter_signal(row, ftype = 'butter', band = 'bandpass', order = 8, frequency = [4.5, 6.5], sampling_rate = 128)\n",
    "        return res[0]\n",
    "    elif (band == 'theta2'): # case 4\n",
    "        res = tools.filter_signal(row, ftype = 'butter', band = 'bandpass', order = 8, frequency = [7, 8.5], sampling_rate = 128)\n",
    "        return res[0]\n",
    "    elif (band == 'sigma'): # case 5\n",
    "        res = tools.filter_signal(row, ftype = 'butter', band = 'bandpass', order = 8, frequency = [9, 14], sampling_rate = 128)\n",
    "        return res[0]\n",
    "    elif (band == 'beta1'): # case 6\n",
    "        res = tools.filter_signal(row, ftype = 'butter', band = 'bandpass', order = 8, frequency = [14.5, 18.5], sampling_rate = 128)\n",
    "        return res[0]\n",
    "    elif (band == 'beta2'): # case 7\n",
    "        res = tools.filter_signal(row, ftype = 'butter', band = 'bandpass', order = 8, frequency = [19, 30], sampling_rate = 128)\n",
    "        return res[0]\n",
    "    elif (band == 'gamma1'): # case 8\n",
    "        res = tools.filter_signal(row, ftype = 'butter', band = 'bandpass', order = 8, frequency = [30.5, 48], sampling_rate = 128)\n",
    "        return res[0]\n",
    "    elif (band == 'gamma2'): # case 9\n",
    "        res = tools.filter_signal(row, ftype = 'butter', band = 'highpass', order = 8, frequency = 52, sampling_rate = 128)\n",
    "        return res[0]\n",
    "    elif (band == 'tot'): # case 10\n",
    "        res = tools.filter_signal(row, ftype = 'butter', band = 'bandpass', order = 8, frequency = [1, 63.5], sampling_rate = 128)\n",
    "        return res[0]\n",
    "    "
   ]
  },
  {
   "cell_type": "code",
   "execution_count": 9,
   "metadata": {},
   "outputs": [],
   "source": [
    "delta_freq_t =  np.apply_along_axis(lambda x: get_freq_in_range('delta', x), axis = 1, arr = eeg1_8test)\n",
    "theta_freq_t =  np.apply_along_axis(lambda x: get_freq_in_range('theta', x), axis = 1, arr = eeg1_8test)\n",
    "theta1_freq_t = np.apply_along_axis(lambda x: get_freq_in_range('theta1', x), axis = 1, arr = eeg1_8test)\n",
    "theta2_freq_t = np.apply_along_axis(lambda x: get_freq_in_range('theta2', x), axis = 1, arr = eeg1_8test)\n",
    "sigma_freq_t =  np.apply_along_axis(lambda x: get_freq_in_range('sigma', x), axis = 1, arr = eeg1_8test)\n",
    "beta1_freq_t  =  np.apply_along_axis(lambda x: get_freq_in_range('beta1', x), axis = 1, arr = eeg1_8test)\n",
    "beta2_freq_t = np.apply_along_axis(lambda x: get_freq_in_range('beta2', x), axis = 1, arr = eeg1_8test)\n",
    "gamma1_freq_t = np.apply_along_axis(lambda x: get_freq_in_range('gamma1', x), axis = 1, arr = eeg1_8test)\n",
    "gamma2_freq_t = np.apply_along_axis(lambda x: get_freq_in_range('gamma2', x), axis = 1, arr = eeg1_8test)\n",
    "tot_freq_t    = np.apply_along_axis(lambda x: get_freq_in_range('tot', x), axis = 1, arr = eeg1_8test)"
   ]
  },
  {
   "cell_type": "code",
   "execution_count": 10,
   "metadata": {},
   "outputs": [],
   "source": [
    "delta_freq =  np.apply_along_axis(lambda x: get_freq_in_range('delta', x), axis = 1, arr = eeg1_8)\n",
    "theta_freq =  np.apply_along_axis(lambda x: get_freq_in_range('theta', x), axis = 1, arr = eeg1_8)\n",
    "theta1_freq = np.apply_along_axis(lambda x: get_freq_in_range('theta1', x), axis = 1, arr = eeg1_8)\n",
    "theta2_freq = np.apply_along_axis(lambda x: get_freq_in_range('theta2', x), axis = 1, arr = eeg1_8)\n",
    "sigma_freq =  np.apply_along_axis(lambda x: get_freq_in_range('sigma', x), axis = 1, arr = eeg1_8)\n",
    "beta1_freq  =  np.apply_along_axis(lambda x: get_freq_in_range('beta1', x), axis = 1, arr = eeg1_8)\n",
    "beta2_freq = np.apply_along_axis(lambda x: get_freq_in_range('beta2', x), axis = 1, arr = eeg1_8)\n",
    "gamma1_freq = np.apply_along_axis(lambda x: get_freq_in_range('gamma1', x), axis = 1, arr = eeg1_8)\n",
    "gamma2_freq = np.apply_along_axis(lambda x: get_freq_in_range('gamma2', x), axis = 1, arr = eeg1_8)\n",
    "tot_freq    = np.apply_along_axis(lambda x: get_freq_in_range('tot', x), axis = 1, arr = eeg1_8)"
   ]
  },
  {
   "cell_type": "code",
   "execution_count": 11,
   "metadata": {},
   "outputs": [],
   "source": [
    "def get_power_max(row):\n",
    "    res = tools.power_spectrum(row, sampling_rate= 128)\n",
    "    return [np.mean(res[1]), np.max(res[1])]\n",
    "power_feat_delta = np.apply_along_axis(get_power_max, axis = 1, arr = delta_freq)\n",
    "power_feat_theta = np.apply_along_axis(get_power_max, axis = 1, arr = theta_freq)\n",
    "power_feat_theta1 = np.apply_along_axis(get_power_max, axis = 1, arr = theta1_freq)\n",
    "power_feat_theta2 = np.apply_along_axis(get_power_max, axis = 1, arr = theta2_freq)\n",
    "power_feat_sigma = np.apply_along_axis(get_power_max, axis = 1, arr = sigma_freq)\n",
    "power_feat_beta1 = np.apply_along_axis(get_power_max, axis = 1, arr = beta1_freq)\n",
    "power_feat_beta2 = np.apply_along_axis(get_power_max, axis = 1, arr = beta2_freq)\n",
    "power_feat_gamma1 = np.apply_along_axis(get_power_max, axis = 1, arr = gamma1_freq)\n",
    "power_feat_gamma2 = np.apply_along_axis(get_power_max, axis = 1, arr = gamma2_freq)\n",
    "power_feat_tot = np.apply_along_axis(get_power_max, axis = 1, arr = tot_freq)"
   ]
  },
  {
   "cell_type": "code",
   "execution_count": 12,
   "metadata": {},
   "outputs": [],
   "source": [
    "## try using welch instead of power_spectrum\n",
    "power_feat_delta_t = np.apply_along_axis(get_power_max, axis = 1, arr = delta_freq_t)\n",
    "power_feat_theta_t = np.apply_along_axis(get_power_max, axis = 1, arr = theta_freq_t)\n",
    "power_feat_theta1_t = np.apply_along_axis(get_power_max, axis = 1, arr = theta1_freq_t)\n",
    "power_feat_theta2_t = np.apply_along_axis(get_power_max, axis = 1, arr = theta2_freq_t)\n",
    "power_feat_sigma_t = np.apply_along_axis(get_power_max, axis = 1, arr = sigma_freq_t)\n",
    "power_feat_beta1_t = np.apply_along_axis(get_power_max, axis = 1, arr = beta1_freq_t)\n",
    "power_feat_beta2_t = np.apply_along_axis(get_power_max, axis = 1, arr = beta2_freq_t)\n",
    "power_feat_gamma1_t = np.apply_along_axis(get_power_max, axis = 1, arr = gamma1_freq_t)\n",
    "power_feat_gamma2_t = np.apply_along_axis(get_power_max, axis = 1, arr = gamma2_freq_t)\n",
    "power_feat_tot_t = np.apply_along_axis(get_power_max, axis = 1, arr = tot_freq_t)"
   ]
  },
  {
   "cell_type": "code",
   "execution_count": 13,
   "metadata": {},
   "outputs": [],
   "source": [
    "pow_mn_delta = power_feat_delta[:, 0]\n",
    "pow_mn_theta = power_feat_theta[:, 0]\n",
    "pow_mn_theta1 = power_feat_theta1[:, 0]\n",
    "pow_mn_theta2 = power_feat_theta2[:, 0]\n",
    "pow_mn_sigma = power_feat_sigma[:, 0]\n",
    "pow_mn_beta1 = power_feat_beta1[:, 0]\n",
    "pow_mn_beta2 = power_feat_beta2[:, 0]\n",
    "pow_mn_gamma1 = power_feat_gamma1[:, 0]\n",
    "pow_mn_gamma2 = power_feat_gamma2[:, 0]\n",
    "pow_mn_tot = power_feat_tot[:, 0]\n",
    "\n",
    "pow_mx_delta = power_feat_delta[:, 1]\n",
    "pow_mx_theta = power_feat_theta[:, 1]\n",
    "pow_mx_theta1 = power_feat_theta1[:, 1]\n",
    "pow_mx_theta2 = power_feat_theta2[:, 1]\n",
    "pow_mx_sigma = power_feat_sigma[:, 1]\n",
    "pow_mx_beta1 = power_feat_beta1[:, 1]\n",
    "pow_mx_beta2 = power_feat_beta2[:, 1]\n",
    "pow_mx_gamma1 = power_feat_gamma1[:, 1]\n",
    "pow_mx_gamma2 = power_feat_gamma2[:, 1]\n",
    "pow_mx_tot = power_feat_tot[:, 1]\n",
    "\n",
    "pow_mn_delta_t = power_feat_delta_t[:, 0]\n",
    "pow_mn_theta_t = power_feat_theta_t[:, 0]\n",
    "pow_mn_theta1_t = power_feat_theta1_t[:, 0]\n",
    "pow_mn_theta2_t = power_feat_theta2_t[:, 0]\n",
    "pow_mn_sigma_t = power_feat_sigma_t[:, 0]\n",
    "pow_mn_beta1_t = power_feat_beta1_t[:, 0]\n",
    "pow_mn_beta2_t = power_feat_beta2_t[:, 0]\n",
    "pow_mn_gamma1_t = power_feat_gamma1_t[:, 0]\n",
    "pow_mn_gamma2_t = power_feat_gamma2_t[:, 0]\n",
    "pow_mn_tot_t = power_feat_tot_t[:, 0]\n",
    "\n",
    "pow_mx_delta_t = power_feat_delta_t[:, 1]\n",
    "pow_mx_theta_t = power_feat_theta_t[:, 1]\n",
    "pow_mx_theta1_t = power_feat_theta1_t[:, 1]\n",
    "pow_mx_theta2_t = power_feat_theta2_t[:, 1]\n",
    "pow_mx_sigma_t = power_feat_sigma_t[:, 1]\n",
    "pow_mx_beta1_t = power_feat_beta1_t[:, 1]\n",
    "pow_mx_beta2_t = power_feat_beta2_t[:, 1]\n",
    "pow_mx_gamma1_t = power_feat_gamma1_t[:, 1]\n",
    "pow_mx_gamma2_t = power_feat_gamma2_t[:, 1]\n",
    "pow_mx_tot_t = power_feat_tot_t[:, 1]\n"
   ]
  },
  {
   "cell_type": "code",
   "execution_count": 14,
   "metadata": {},
   "outputs": [
    {
     "name": "stdout",
     "output_type": "stream",
     "text": [
      "(21600,)\n",
      "(43200, 512)\n",
      "-0.07587167722114088\n",
      "-134.3357699806209\n",
      "1770.5654455097454\n"
     ]
    }
   ],
   "source": [
    "# theta divided by delta\n",
    "print(pow_mx_delta_t.flatten().shape)\n",
    "print(eeg1_t.shape)\n",
    "theta_delta =  pow_mn_theta / pow_mn_delta\n",
    "theta_delta_t = pow_mn_theta_t / pow_mn_delta_t\n",
    "print(theta_delta[0])\n",
    "print(pow_mn_theta[0])\n",
    "print(pow_mn_delta[0])"
   ]
  },
  {
   "cell_type": "markdown",
   "metadata": {},
   "source": [
    "###  PAA"
   ]
  },
  {
   "cell_type": "code",
   "execution_count": 15,
   "metadata": {},
   "outputs": [],
   "source": [
    "# delta -> 1 - 4.5\n",
    "# theta - > 4 - 10\n",
    "# theta1    4 - 10\n",
    "# theta2    4 - 10\n",
    "# sigma     7 - 20\n",
    "# beta1     10 - 40\n",
    "# beta2     10 - 40\n",
    "# gamma1    25 - 80\n",
    "# gamma2    25 - 80\n",
    "# tot       1 - 80\n",
    "\n",
    "def preprocess_sig(band, row):\n",
    "    if (band == 'delta'):  #  case 1\n",
    "        res = tools.filter_signal(row, ftype = 'butter', band = 'bandpass', order = 8, frequency = [1, 4.5], sampling_rate = 128)\n",
    "        return res[0]\n",
    "    elif (band  == 'theta'): # case 2\n",
    "        res = tools.filter_signal(row, ftype = 'butter', band = 'bandpass', order = 8, frequency = [4, 10], sampling_rate = 128)\n",
    "        return res[0]\n",
    "    elif (band == 'sigma'): # case 5\n",
    "        res = tools.filter_signal(row, ftype = 'butter', band = 'bandpass', order = 8, frequency = [7, 20], sampling_rate = 128)\n",
    "        return res[0]\n",
    "    elif (band == 'beta'): # case 6\n",
    "        res = tools.filter_signal(row, ftype = 'butter', band = 'bandpass', order = 8, frequency = [10, 40], sampling_rate = 128)\n",
    "        return res[0]\n",
    "    elif (band == 'gamma'): # case 8\n",
    "        res = tools.filter_signal(row, ftype = 'butter', band = 'highpass', order = 8, frequency = 25, sampling_rate = 128)\n",
    "        return res[0]\n",
    "    elif (band == 'tot'): # case 10\n",
    "        res = tools.filter_signal(row, ftype = 'butter', band = 'highpass', order = 8, frequency = 1, sampling_rate = 128)\n",
    "        return res[0]\n"
   ]
  },
  {
   "cell_type": "code",
   "execution_count": 16,
   "metadata": {},
   "outputs": [],
   "source": [
    "\n",
    "\n",
    "delta_pre = np.apply_along_axis(lambda x: preprocess_sig('delta', x), axis = 1, arr= eeg1_8)\n",
    "theta_pre = np.apply_along_axis(lambda x: preprocess_sig('theta', x), axis = 1, arr= eeg1_8)\n",
    "sigma_pre = np.apply_along_axis(lambda x: preprocess_sig('sigma', x), axis = 1, arr= eeg1_8)\n",
    "beta_pre = np.apply_along_axis(lambda x: preprocess_sig('beta', x), axis = 1, arr= eeg1_8)\n",
    "gamma_pre = np.apply_along_axis(lambda x: preprocess_sig('gamma', x), axis = 1, arr= eeg1_8)\n",
    "tot_pre = np.apply_along_axis(lambda x: preprocess_sig('tot', x), axis = 1, arr= eeg1_8)"
   ]
  },
  {
   "cell_type": "code",
   "execution_count": 17,
   "metadata": {},
   "outputs": [],
   "source": [
    "delta_pre_t = np.apply_along_axis(lambda x: preprocess_sig('delta', x), axis = 1, arr= eeg1_8test)\n",
    "theta_pre_t = np.apply_along_axis(lambda x: preprocess_sig('theta', x), axis = 1, arr= eeg1_8test)\n",
    "sigma_pre_t = np.apply_along_axis(lambda x: preprocess_sig('sigma', x), axis = 1, arr= eeg1_8test)\n",
    "beta_pre_t = np.apply_along_axis(lambda x: preprocess_sig('beta', x), axis = 1, arr= eeg1_8test)\n",
    "gamma_pre_t = np.apply_along_axis(lambda x: preprocess_sig('gamma', x), axis = 1, arr= eeg1_8test)\n",
    "tot_pre_t = np.apply_along_axis(lambda x: preprocess_sig('tot', x), axis = 1, arr= eeg1_8test)"
   ]
  },
  {
   "cell_type": "code",
   "execution_count": 18,
   "metadata": {},
   "outputs": [],
   "source": [
    "delta_paa_t =  np.apply_along_axis(lambda x: get_freq_in_range('delta', x), axis = 1, arr = delta_pre_t)\n",
    "theta_paa_t =  np.apply_along_axis(lambda x: get_freq_in_range('theta', x), axis = 1, arr = theta_pre_t)\n",
    "theta1_paa_t = np.apply_along_axis(lambda x: get_freq_in_range('theta1', x), axis = 1, arr = theta_pre_t)\n",
    "theta2_paa_t = np.apply_along_axis(lambda x: get_freq_in_range('theta2', x), axis = 1, arr = theta_pre_t)\n",
    "sigma_paa_t =  np.apply_along_axis(lambda x: get_freq_in_range('sigma', x), axis = 1, arr = sigma_pre_t)\n",
    "beta1_paa_t  =  np.apply_along_axis(lambda x: get_freq_in_range('beta1', x), axis = 1, arr = beta_pre_t)\n",
    "beta2_paa_t = np.apply_along_axis(lambda x: get_freq_in_range('beta2', x), axis = 1, arr = beta_pre_t)\n",
    "gamma1_paa_t = np.apply_along_axis(lambda x: get_freq_in_range('gamma1', x), axis = 1, arr = gamma_pre_t)\n",
    "gamma2_paa_t = np.apply_along_axis(lambda x: get_freq_in_range('gamma2', x), axis = 1, arr = gamma_pre_t)\n",
    "tot_paa_t    = np.apply_along_axis(lambda x: get_freq_in_range('tot', x), axis = 1, arr = tot_pre_t)"
   ]
  },
  {
   "cell_type": "code",
   "execution_count": 19,
   "metadata": {},
   "outputs": [],
   "source": [
    "delta_paa =  np.apply_along_axis(lambda x: get_freq_in_range('delta', x), axis = 1, arr = delta_pre)\n",
    "theta_paa =  np.apply_along_axis(lambda x: get_freq_in_range('theta', x), axis = 1, arr = theta_pre)\n",
    "theta1_paa = np.apply_along_axis(lambda x: get_freq_in_range('theta1', x), axis = 1, arr = theta_pre)\n",
    "theta2_paa = np.apply_along_axis(lambda x: get_freq_in_range('theta2', x), axis = 1, arr = theta_pre)\n",
    "sigma_paa =  np.apply_along_axis(lambda x: get_freq_in_range('sigma', x), axis = 1, arr = sigma_pre)\n",
    "beta1_paa  =  np.apply_along_axis(lambda x: get_freq_in_range('beta1', x), axis = 1, arr = beta_pre)\n",
    "beta2_paa = np.apply_along_axis(lambda x: get_freq_in_range('beta2', x), axis = 1, arr = beta_pre)\n",
    "gamma1_paa = np.apply_along_axis(lambda x: get_freq_in_range('gamma1', x), axis = 1, arr = gamma_pre)\n",
    "gamma2_paa = np.apply_along_axis(lambda x: get_freq_in_range('gamma2', x), axis = 1, arr = gamma_pre)\n",
    "tot_paa    = np.apply_along_axis(lambda x: get_freq_in_range('tot', x), axis = 1, arr = tot_pre)\n",
    "\n",
    "delta_paa = delta_paa    # to prevent overflows later\n",
    "delta_paa_t = delta_paa_t"
   ]
  },
  {
   "cell_type": "markdown",
   "metadata": {},
   "source": [
    "1) number of baseline crossings per second;\n",
    "\n",
    "2) duration between two consecutive baseline crossings;\n",
    "\n",
    "3) integrated amplitude of half-waves; and\n",
    "\n",
    "4) maximal amplitude of half-waves. "
   ]
  },
  {
   "cell_type": "code",
   "execution_count": 20,
   "metadata": {},
   "outputs": [],
   "source": [
    "iter = 0\n",
    "def paa_features(row):\n",
    "    #global iter\n",
    "    #print(row)\n",
    "    #zc2  = tools.zero_cross(signal = row, detrend=False)\n",
    "    \n",
    "    df = np.diff(np.sign(row)) \n",
    "    zc = np.nonzero(np.abs(df) > 0)[0]       \n",
    "    \n",
    "    if (len(zc) <= 1):  # i.e. there is only 1 zero crossing \n",
    "        #print('empty')\n",
    "        #iter += 1\n",
    "        return np.array([np.nan, np.nan, np.nan, np.nan, np.nan, np.nan])\n",
    "    \n",
    "    \n",
    "    rate = len(zc)/len(row)\n",
    "    differences = np.ediff1d(zc)\n",
    "    avg_dur = np.mean(differences)\n",
    "    std_dur = np.std(differences)  # regularity of the rhythm\n",
    "    # integrated amplitude of half-wave\n",
    "    # we get the amplitudes beginning from right after the index of the zero and upto and including the index of the next zero\n",
    "    med_max_ampl = []\n",
    "    mean_int_ampl = []\n",
    "    for idx, el in enumerate(zc):\n",
    "        if (idx >= (len(zc)-1)):\n",
    "            break\n",
    "        el2 = zc[idx+1]\n",
    "        rng = np.arange(el+1, el2+1)\n",
    "        half_wave = row[rng]  \n",
    "        area_approx = np.sum(half_wave**2)\n",
    "        #print(area_approx)\n",
    "        max_ampl = np.max(half_wave)\n",
    "        med_max_ampl.append(max_ampl)\n",
    "        mean_int_ampl.append(area_approx)\n",
    "        \n",
    "    #print(len(med_max_ampl))\n",
    "    #print(row)\n",
    "        \n",
    "    var3 = np.max(med_max_ampl)\n",
    "    var4 = np.median(med_max_ampl)\n",
    "    var5 = np.mean(mean_int_ampl)\n",
    "    \n",
    "    res = np.array([rate, avg_dur, std_dur, var3 , var4 , var5 ], dtype = 'float64')\n",
    "    \n",
    "    return res\n",
    " "
   ]
  },
  {
   "cell_type": "code",
   "execution_count": null,
   "metadata": {},
   "outputs": [],
   "source": [
    "def paa_features_delta(row):\n",
    "    row_dec = row/1e100\n",
    "    max_amp = np.max(row_dec)\n",
    "    min_amp = np.min(row_dec)\n",
    "    diffs = np.ediff1d(row_dec)\n",
    "    min_slope = np.min(diffs)\n",
    "    max_slope = np.max(diffs)\n",
    "    largest_slope = 1\n",
    "    if (int(np.sign(min_slope)) == int(np.sign(max_slope))):\n",
    "        largest_slope = int(np.sign(min_slope))*max(np.abs(max_slope), np.abs(min_slope))\n",
    "    elif (np.abs(min_slope) > np.abs(max_slope)):\n",
    "        largest_slope = int(np.sign(min_slope))*np.abs(min_slope)\n",
    "    else:\n",
    "        largest_slope = np.abs(max_slope)\n",
    "        \n",
    "    area_approx = np.sum(row_dec**2)\n",
    "    avg_slope = np.mean(diffs)\n",
    "    res = np.array([max_amp, min_amp, largest_slope, area_approx, avg_slope])\n",
    "    "
   ]
  },
  {
   "cell_type": "code",
   "execution_count": 21,
   "metadata": {},
   "outputs": [],
   "source": [
    "delta_paa_feat = np.apply_along_axis(paa_features_delta, axis = 1, arr = delta_paa)  \n",
    "theta_paa_feat = np.apply_along_axis(paa_features, axis = 1, arr = theta_paa)\n",
    "theta1_paa_feat = np.apply_along_axis(paa_features, axis = 1, arr = theta1_paa)\n",
    "theta2_paa_feat = np.apply_along_axis(paa_features, axis = 1, arr = theta2_paa)\n",
    "sigma_paa_feat = np.apply_along_axis(paa_features, axis = 1, arr = sigma_paa)\n",
    "beta1_paa_feat = np.apply_along_axis(paa_features, axis = 1, arr = beta1_paa)\n",
    "beta2_paa_feat = np.apply_along_axis(paa_features, axis = 1, arr = beta2_paa)\n",
    "gamma1_paa_feat = np.apply_along_axis(paa_features, axis = 1, arr = gamma1_paa)\n",
    "gamma2_paa_feat = np.apply_along_axis(paa_features, axis = 1, arr = gamma2_paa)\n",
    "tot_paa_feat = np.apply_along_axis(paa_features, axis = 1, arr = tot_paa)"
   ]
  },
  {
   "cell_type": "code",
   "execution_count": 22,
   "metadata": {},
   "outputs": [
    {
     "name": "stdout",
     "output_type": "stream",
     "text": [
      "[[2.92968750e-03 4.00000000e+01 3.30000000e+01 1.59684239e+30\n",
      "  7.53594511e+29 2.44719988e+61]\n",
      " [2.92968750e-03 3.75000000e+01 3.05000000e+01 6.32282855e+30\n",
      "  3.10294279e+30 3.63327525e+62]\n",
      " [2.92968750e-03 4.25000000e+01 2.05000000e+01 7.93629198e+29\n",
      "  3.57144043e+29 6.71809846e+61]\n",
      " [           nan            nan            nan            nan\n",
      "             nan            nan]\n",
      " [           nan            nan            nan            nan\n",
      "             nan            nan]\n",
      " [2.92968750e-03 3.90000000e+01 3.40000000e+01 2.68310236e+29\n",
      "  1.34013780e+29 7.22529370e+61]\n",
      " [           nan            nan            nan            nan\n",
      "             nan            nan]\n",
      " [2.92968750e-03 4.15000000e+01 2.25000000e+01 2.51119092e+30\n",
      "  1.20160132e+30 2.79389143e+62]\n",
      " [           nan            nan            nan            nan\n",
      "             nan            nan]\n",
      " [           nan            nan            nan            nan\n",
      "             nan            nan]\n",
      " [2.92968750e-03 3.85000000e+01 2.85000000e+01 9.84056396e+29\n",
      "  4.46796117e+29 9.60048313e+60]\n",
      " [           nan            nan            nan            nan\n",
      "             nan            nan]\n",
      " [2.92968750e-03 4.35000000e+01 1.75000000e+01 2.41840077e+30\n",
      "  1.12212809e+30 1.86025042e+63]\n",
      " [           nan            nan            nan            nan\n",
      "             nan            nan]\n",
      " [           nan            nan            nan            nan\n",
      "             nan            nan]\n",
      " [2.92968750e-03 4.15000000e+01 2.85000000e+01 5.92546116e+30\n",
      "  2.96232336e+30 3.81892081e+62]\n",
      " [           nan            nan            nan            nan\n",
      "             nan            nan]\n",
      " [2.92968750e-03 3.95000000e+01 2.75000000e+01 1.16696566e+31\n",
      "  5.83435908e+30 1.69622557e+63]\n",
      " [           nan            nan            nan            nan\n",
      "             nan            nan]\n",
      " [           nan            nan            nan            nan\n",
      "             nan            nan]]\n"
     ]
    },
    {
     "data": {
      "text/plain": [
       "SimpleImputer()"
      ]
     },
     "execution_count": 22,
     "metadata": {},
     "output_type": "execute_result"
    }
   ],
   "source": [
    "print(delta_paa_feat[20:40, :])\n",
    "# if it prints too many missing values (np.nan) maybe try subtracting the mean of the signal from the signal and then finding the zeros\n",
    "imp_d = SimpleImputer(missing_values=np.nan, strategy='mean') # d short for delta\n",
    "imp_t = SimpleImputer(missing_values=np.nan, strategy='mean')\n",
    "imp_t1 = SimpleImputer(missing_values=np.nan, strategy='mean')\n",
    "imp_t2 = SimpleImputer(missing_values=np.nan, strategy='mean')\n",
    "imp_s = SimpleImputer(missing_values=np.nan, strategy='mean')\n",
    "imp_b1 = SimpleImputer(missing_values=np.nan, strategy='mean')\n",
    "imp_b2 = SimpleImputer(missing_values=np.nan, strategy='mean')\n",
    "imp_g1 = SimpleImputer(missing_values=np.nan, strategy='mean')\n",
    "imp_g2 = SimpleImputer(missing_values=np.nan, strategy='mean')\n",
    "imp_tot = SimpleImputer(missing_values=np.nan, strategy='mean')\n",
    "\n",
    "imp_d.fit(delta_paa_feat)\n",
    "imp_t.fit(theta_paa_feat)\n",
    "imp_t1.fit(theta1_paa_feat)\n",
    "imp_t2.fit(theta2_paa_feat)\n",
    "imp_s.fit(sigma_paa_feat)\n",
    "imp_b1.fit(beta1_paa_feat)\n",
    "imp_b2.fit(beta2_paa_feat)\n",
    "imp_g1.fit(gamma1_paa_feat)\n",
    "imp_g2.fit(gamma2_paa_feat)\n",
    "imp_tot.fit(tot_paa_feat)"
   ]
  },
  {
   "cell_type": "code",
   "execution_count": 23,
   "metadata": {},
   "outputs": [],
   "source": [
    "delta_paa_feat_t = np.apply_along_axis(paa_features, axis = 1, arr = delta_paa_t)\n",
    "theta_paa_feat_t = np.apply_along_axis(paa_features, axis = 1, arr = theta_paa_t)\n",
    "theta1_paa_feat_t = np.apply_along_axis(paa_features, axis = 1, arr = theta1_paa_t)\n",
    "theta2_paa_feat_t = np.apply_along_axis(paa_features, axis = 1, arr = theta2_paa_t)\n",
    "sigma_paa_feat_t = np.apply_along_axis(paa_features, axis = 1, arr = sigma_paa_t)\n",
    "beta1_paa_feat_t = np.apply_along_axis(paa_features, axis = 1, arr = beta1_paa_t)\n",
    "beta2_paa_feat_t = np.apply_along_axis(paa_features, axis = 1, arr = beta2_paa_t)\n",
    "gamma1_paa_feat_t = np.apply_along_axis(paa_features, axis = 1, arr = gamma1_paa_t)\n",
    "gamma2_paa_feat_t = np.apply_along_axis(paa_features, axis = 1, arr = gamma2_paa_t)\n",
    "tot_paa_feat_t = np.apply_along_axis(paa_features, axis = 1, arr = tot_paa_t)"
   ]
  },
  {
   "cell_type": "code",
   "execution_count": 24,
   "metadata": {},
   "outputs": [
    {
     "data": {
      "image/png": "[encoded data removed]",
      "text/plain": [
       "<Figure size 432x288 with 1 Axes>"
      ]
     },
     "metadata": {
      "needs_background": "light"
     },
     "output_type": "display_data"
    }
   ],
   "source": [
    "import matplotlib.pyplot as plt\n",
    "plt.plot(theta_paa[0])\n",
    "plt.ylabel('some numbers')\n",
    "plt.show()"
   ]
  },
  {
   "cell_type": "code",
   "execution_count": 25,
   "metadata": {},
   "outputs": [],
   "source": [
    "import matplotlib.pyplot as plt\n",
    "plt.plot(delta_paa[575])\n",
    "plt.ylabel('some numbers')\n",
    "plt.show()"
   ]
  },
  {
   "cell_type": "code",
   "execution_count": 26,
   "metadata": {},
   "outputs": [],
   "source": [
    "delta_paa_imputed = imp_d.transform(delta_paa_feat)\n",
    "theta_paa_imputed =imp_t.transform(theta_paa_feat)\n",
    "theta1_paa_imputed =imp_t1.transform(theta1_paa_feat)\n",
    "theta2_paa_imputed =imp_t2.transform(theta2_paa_feat)\n",
    "sigma_paa_imputed =imp_s.transform(sigma_paa_feat)\n",
    "beta1_paa_imputed =imp_b1.transform(beta1_paa_feat)\n",
    "beta2_paa_imputed =imp_b2.transform(beta2_paa_feat)\n",
    "gamma1_paa_imputed =imp_g1.transform(gamma1_paa_feat)\n",
    "gamma2_paa_imputed =imp_g2.transform(gamma2_paa_feat)\n",
    "tot_paa_imputed =imp_tot.transform(tot_paa_feat)\n",
    "\n",
    "\n",
    "delta_paa_imputed_t = imp_d.transform(delta_paa_feat_t)\n",
    "theta_paa_imputed_t =imp_t.transform(theta_paa_feat_t)\n",
    "theta1_paa_imputed_t =imp_t1.transform(theta1_paa_feat_t)\n",
    "theta2_paa_imputed_t =imp_t2.transform(theta2_paa_feat_t)\n",
    "sigma_paa_imputed_t =imp_s.transform(sigma_paa_feat_t)\n",
    "beta1_paa_imputed_t =imp_b1.transform(beta1_paa_feat_t)\n",
    "beta2_paa_imputed_t =imp_b2.transform(beta2_paa_feat_t)\n",
    "gamma1_paa_imputed_t =imp_g1.transform(gamma1_paa_feat_t)\n",
    "gamma2_paa_imputed_t =imp_g2.transform(gamma2_paa_feat_t)\n",
    "tot_paa_imputed_t =imp_tot.transform(tot_paa_feat_t)"
   ]
  },
  {
   "cell_type": "code",
   "execution_count": 27,
   "metadata": {},
   "outputs": [
    {
     "name": "stdout",
     "output_type": "stream",
     "text": [
      "(21600, 6)\n"
     ]
    }
   ],
   "source": [
    "print(tot_paa_imputed_t.shape)"
   ]
  },
  {
   "cell_type": "code",
   "execution_count": 28,
   "metadata": {},
   "outputs": [],
   "source": [
    "def get_integrated_amp(row):\n",
    "    return np.sum(row**2)\n",
    "emg_integrated_amp = np.apply_along_axis(get_integrated_amp, axis =1, arr = filtered_emg)\n",
    "emg_integrated_amp_t = np.apply_along_axis(get_integrated_amp, axis =1, arr = filtered_emg_t)"
   ]
  },
  {
   "cell_type": "code",
   "execution_count": 29,
   "metadata": {},
   "outputs": [],
   "source": [
    "# finally ratio of integrated amplitude of theta range to int. amplitude of delta range\n",
    "ratio_amplitude = theta_paa_imputed[:, 5]/delta_paa_imputed[:, 5]\n",
    "ratio_amplitude_t = theta_paa_imputed_t[:, 5]/delta_paa_imputed_t[:, 5]"
   ]
  },
  {
   "cell_type": "code",
   "execution_count": 30,
   "metadata": {},
   "outputs": [],
   "source": [
    "# to summarize the feature matrices are\n",
    "# ratio_amplitude\n",
    "# delta_paa_imputed, theta_paa_imputed, ... , tot_paa_imputed\n",
    "# pow_mn_delta, pow_mn_theta, ... , pow_mn_tot\n",
    "# pow_mx_delta, pow_mx_theta, ... , pow_mx_tot\n",
    "# theta_delta\n",
    "# emg_integrated_amp\n",
    "\n",
    "# The test data's features matrices have exactly the same name but with _t  appended to the matrix identifiers"
   ]
  },
  {
   "cell_type": "code",
   "execution_count": null,
   "metadata": {},
   "outputs": [],
   "source": [
    "# standard scale everything\n",
    "X_train = np.hstack((ratio_amplitude, delta_paa_imputed, theta_paa_imputed, theta1_paa_imputed,\n",
    "                    theta2_paa_imputed, sigma_paa_imputed, beta1_paa_imputed, beta2_paa_imputed, \n",
    "                    gamma1_paa_imputed, gamma2_paa_imputed, delta_paa_imputed, tot_paa_imputed,\n",
    "                     power_feat_delta, power_feat_theta, power_feat_theta1, power_feat_theta2, \n",
    "                     power_feat_sigma, power_feat_beta1, power_feat_beta2, power_feat_gamma1, \n",
    "                     power_feat_gamma2, power_feat_tot, theta_delta, emg_integrated_amp\n",
    "                    ))\n",
    "\n",
    "sc = StandardScaler()\n",
    "sc = scaler.fit(X_train)\n",
    "X_train_sc = sc.transform(X_train)\n",
    "\n",
    "\n",
    "y_train = y\n",
    "\n",
    "# select 20 best features\n",
    "sk = SelectKBest(k=20)\n",
    "sk = sk.fit(X_train_sc, y_train)\n",
    "X_train_new = sk.transform(X_train_sc)\n",
    "\n",
    "def saveResults(best_param, best_score, clft):\n",
    "    f = open(clft +\"_best_params_and_score.txt\", \"a\")\n",
    "    f.write(str(best_param))\n",
    "    f.write(\"\\n score: \")\n",
    "    f.write(str(best_score))\n",
    "    f.close()\n",
    "\n",
    "\n",
    "search_model_params = GridSearchCV(\n",
    "     SVC(kernel = 'rbf'),{\n",
    "         'C': [0.9, 1]\n",
    "    }, cv=5, return_train_score = False, n_jobs = -1\n",
    ")\n",
    "search_model_params.fit(X_train_new, y_train)\n",
    "\n",
    "saveResults(search_model_params.best_params_, search_model_params.best_score_, 'svc')\n",
    "# try LDA also\n",
    "\n",
    "\n",
    "search_model_params2 = GridSearchCV(\n",
    "     LinearDiscriminantAnalysis(),{\n",
    "         'n_components': [5, 60]\n",
    "    }, cv=5, return_train_score = False, n_jobs = -1\n",
    ")\n",
    "search_model_params2.fit(X_train_new, y_train)\n",
    "\n",
    "saveResults(search_model_params2.best_params_, search_model_params2.best_score_, 'lda')\n",
    "\n",
    "\n",
    "\n",
    "X_test = np.hstack((ratio_amplitude_t, delta_paa_imputed_t, theta_paa_imputed_t, theta1_paa_imputed_t,\n",
    "                    theta2_paa_imputed_t, sigma_paa_imputed_t, beta1_paa_imputed_t, beta2_paa_imputed_t, \n",
    "                    gamma1_paa_imputed_t, gamma2_paa_imputed_t, delta_paa_imputed_t, tot_paa_imputed_t,\n",
    "                     power_feat_delta_t, power_feat_theta_t, power_feat_theta1_t, power_feat_theta2_t, \n",
    "                     power_feat_sigma_t, power_feat_beta1_t, power_feat_beta2_t, power_feat_gamma1_t, \n",
    "                     power_feat_gamma2_t, power_feat_tot_t, theta_delta_t, emg_integrated_amp_t\n",
    "                    ))\n",
    "\n",
    "X_test_sc = sc.transform(X_test)\n",
    "X_test_sc = sk.transform(X_test_sc)\n",
    "\n",
    "predictions = search_model_params.predict(X_test_sc)\n",
    "predictions2 = search_model_params2.predict(X_test_sc)\n",
    "\n",
    "\n",
    "dfPredictions = pd.DataFrame(predictions)\n",
    "dfPredictions.index.name = \"id\"\n",
    "dfPredictions.to_csv(\"svctask4.csv\", header = ['y'], index=True)\n",
    "\n",
    "\n",
    "dfPredictions2 = pd.DataFrame(predictions2)\n",
    "dfPredictions2.index.name = \"id\"\n",
    "dfPredictions2.to_csv(\"ldatask4.csv\", header = ['y'], index=True)\n"
   ]
  }
 ],
 "metadata": {
  "kernelspec": {
   "display_name": "Python 3",
   "language": "python",
   "name": "python3"
  },
  "language_info": {
   "codemirror_mode": {
    "name": "ipython",
    "version": 3
   },
   "file_extension": ".py",
   "mimetype": "text/x-python",
   "name": "python",
   "nbconvert_exporter": "python",
   "pygments_lexer": "ipython3",
   "version": "3.7.6"
  }
 },
 "nbformat": 4,
 "nbformat_minor": 4
}
