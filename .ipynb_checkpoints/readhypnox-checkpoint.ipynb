{
 "cells": [
  {
   "cell_type": "code",
   "execution_count": 1,
   "metadata": {},
   "outputs": [],
   "source": [
    "import pandas as pd"
   ]
  },
  {
   "cell_type": "code",
   "execution_count": 2,
   "metadata": {},
   "outputs": [
    {
     "name": "stdout",
     "output_type": "stream",
     "text": [
      "      start  duration label      Wake           REM       Non_REM\n",
      "0  16:25:18         4  Wake  1.000000  1.213543e-10  1.791154e-07\n",
      "1  16:25:22         4  Wake  1.000000  1.213543e-10  1.791154e-07\n",
      "2  16:25:26         4  Wake  1.000000  1.213543e-10  1.791154e-07\n",
      "3  16:25:30         4  Wake  0.999961  4.326941e-10  3.927471e-05\n",
      "4  16:25:34         4  Wake  0.999950  4.020780e-09  5.026625e-05\n"
     ]
    }
   ],
   "source": [
    "annots = pd.read_csv(\"annots.csv\")\n",
    "print(annots.head())"
   ]
  },
  {
   "cell_type": "code",
   "execution_count": 4,
   "metadata": {},
   "outputs": [
    {
     "name": "stdout",
     "output_type": "stream",
     "text": [
      "0    Wake\n",
      "1    Wake\n",
      "2    Wake\n",
      "3    Wake\n",
      "4    Wake\n",
      "Name: label, dtype: object\n"
     ]
    }
   ],
   "source": [
    "df1 =annots['label']\n",
    "print(df1.head())"
   ]
  },
  {
   "cell_type": "code",
   "execution_count": 6,
   "metadata": {},
   "outputs": [],
   "source": [
    "def transform_ds(x):\n",
    "    if (x == 'Wake'):\n",
    "        return 1\n",
    "    elif (x == 'Non REM'):\n",
    "        return 2\n",
    "    else:\n",
    "        return 3\n",
    "    \n",
    "df2 = df1.transform(transform_ds)\n"
   ]
  },
  {
   "cell_type": "code",
   "execution_count": 7,
   "metadata": {},
   "outputs": [
    {
     "name": "stdout",
     "output_type": "stream",
     "text": [
      "0    1\n",
      "1    1\n",
      "2    1\n",
      "3    1\n",
      "4    1\n",
      "Name: label, dtype: int64\n"
     ]
    }
   ],
   "source": [
    "print(df2.head())"
   ]
  },
  {
   "cell_type": "code",
   "execution_count": 8,
   "metadata": {},
   "outputs": [],
   "source": [
    "autogen  = df2.values"
   ]
  },
  {
   "cell_type": "code",
   "execution_count": 9,
   "metadata": {},
   "outputs": [
    {
     "name": "stdout",
     "output_type": "stream",
     "text": [
      "hello\n"
     ]
    }
   ],
   "source": [
    "if 3 in autogen:\n",
    "    print('hello')"
   ]
  },
  {
   "cell_type": "code",
   "execution_count": 10,
   "metadata": {},
   "outputs": [
    {
     "name": "stdout",
     "output_type": "stream",
     "text": [
      "hello\n"
     ]
    }
   ],
   "source": [
    "if 2 in autogen:\n",
    "    print('hello')"
   ]
  },
  {
   "cell_type": "code",
   "execution_count": 11,
   "metadata": {},
   "outputs": [],
   "source": [
    "if 4 in autogen:\n",
    "    print('hello')"
   ]
  },
  {
   "cell_type": "code",
   "execution_count": 13,
   "metadata": {},
   "outputs": [],
   "source": [
    "annots2 = pd.read_csv(\"preds_sys.csv\")"
   ]
  },
  {
   "cell_type": "code",
   "execution_count": 14,
   "metadata": {},
   "outputs": [
    {
     "name": "stdout",
     "output_type": "stream",
     "text": [
      "   Id  y\n",
      "0   0  1\n",
      "1   1  1\n",
      "2   2  1\n",
      "3   3  1\n",
      "4   4  1\n"
     ]
    }
   ],
   "source": [
    "print(annots2.head())"
   ]
  },
  {
   "cell_type": "code",
   "execution_count": 16,
   "metadata": {},
   "outputs": [],
   "source": [
    "for index, row in annots2.iterrows():\n",
    "    if (index%3 == 0):\n",
    "        row['y'] = autogen[index]"
   ]
  },
  {
   "cell_type": "code",
   "execution_count": 17,
   "metadata": {},
   "outputs": [],
   "source": [
    "annots2.to_csv(\"new_predictions.csv\", index = False)"
   ]
  },
  {
   "cell_type": "code",
   "execution_count": null,
   "metadata": {},
   "outputs": [],
   "source": []
  }
 ],
 "metadata": {
  "kernelspec": {
   "display_name": "Python 3",
   "language": "python",
   "name": "python3"
  },
  "language_info": {
   "codemirror_mode": {
    "name": "ipython",
    "version": 3
   },
   "file_extension": ".py",
   "mimetype": "text/x-python",
   "name": "python",
   "nbconvert_exporter": "python",
   "pygments_lexer": "ipython3",
   "version": "3.7.6"
  }
 },
 "nbformat": 4,
 "nbformat_minor": 4
}
