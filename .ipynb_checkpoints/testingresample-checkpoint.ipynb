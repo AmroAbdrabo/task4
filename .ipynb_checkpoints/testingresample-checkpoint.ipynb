{
 "cells": [
  {
   "cell_type": "code",
   "execution_count": 1,
   "metadata": {},
   "outputs": [
    {
     "name": "stdout",
     "output_type": "stream",
     "text": [
      "Bootstrap Sample: [0.6, 0.4, 0.5, 0.1]\n",
      "OOB Sample: [0.2, 0.3]\n"
     ]
    }
   ],
   "source": [
    "# scikit-learn bootstrap\n",
    "from sklearn.utils import resample\n",
    "# data sample\n",
    "data = [0.1, 0.2, 0.3, 0.4, 0.5, 0.6]\n",
    "# prepare bootstrap sample\n",
    "boot = resample(data, replace=True, n_samples=4, random_state=1)\n",
    "print('Bootstrap Sample: %s' % boot)\n",
    "# out of bag observations\n",
    "oob = [x for x in data if x not in boot]\n",
    "print('OOB Sample: %s' % oob)"
   ]
  },
  {
   "cell_type": "code",
   "execution_count": 6,
   "metadata": {},
   "outputs": [
    {
     "name": "stdout",
     "output_type": "stream",
     "text": [
      "Bootstrap Sample: [[1.1, 1.2, 1.3, 1.4, 1.5, 1.6], [1.1, 1.2, 1.3, 1.4, 1.5, 1.6], [0.1, 0.2, 0.3, 0.4, 0.5, 0.6], [0.1, 0.2, 0.3, 0.4, 0.5, 0.6], [1.1, 1.2, 1.3, 1.4, 1.5, 1.6], [1.1, 1.2, 1.3, 1.4, 1.5, 1.6], [1.1, 1.2, 1.3, 1.4, 1.5, 1.6], [1.1, 1.2, 1.3, 1.4, 1.5, 1.6]]\n",
      "OOB Sample: []\n"
     ]
    }
   ],
   "source": [
    "# data sample\n",
    "data = [[0.1, 0.2, 0.3, 0.4, 0.5, 0.6], [1.1, 1.2, 1.3, 1.4, 1.5, 1.6]]\n",
    "# prepare bootstrap sample\n",
    "boot = resample(data, replace=True, n_samples=8, random_state=1)\n",
    "print('Bootstrap Sample: %s' % boot)\n",
    "# out of bag observations\n",
    "oob = [x for x in data if x not in boot]\n",
    "print('OOB Sample: %s' % oob)"
   ]
  },
  {
   "cell_type": "code",
   "execution_count": 7,
   "metadata": {},
   "outputs": [
    {
     "name": "stdout",
     "output_type": "stream",
     "text": [
      "{1: [12, 4, 55], 0: [22, 43, 55]}\n"
     ]
    }
   ],
   "source": [
    "dict_samples = {}\n",
    "dict_samples[1] = [12, 4, 55]\n",
    "dict_samples[0] = [22, 43, 55]\n",
    "print(dict_samples)"
   ]
  },
  {
   "cell_type": "code",
   "execution_count": 8,
   "metadata": {},
   "outputs": [],
   "source": [
    "import numpy as np"
   ]
  },
  {
   "cell_type": "code",
   "execution_count": 9,
   "metadata": {},
   "outputs": [
    {
     "name": "stdout",
     "output_type": "stream",
     "text": [
      "[[1 2 3]\n",
      " [4 5 6]]\n",
      "*********\n",
      "[[1 4]\n",
      " [2 5]\n",
      " [3 6]]\n"
     ]
    }
   ],
   "source": [
    "kk = np.array([[1, 2, 3], [4, 5, 6]])\n",
    "print(kk)\n",
    "print(\"*********\")\n",
    "print(kk.T)"
   ]
  },
  {
   "cell_type": "code",
   "execution_count": 10,
   "metadata": {},
   "outputs": [
    {
     "name": "stdout",
     "output_type": "stream",
     "text": [
      "[[ 1  2  3]\n",
      " [10 11 12]]\n"
     ]
    }
   ],
   "source": [
    "kx = np.array([[1, 2, 3], [4, 5, 6], [7, 8, 9], [10, 11, 12]])\n",
    "idxx = np.array([0, 3])\n",
    "jx = kx[idxx]\n",
    "print(jx)"
   ]
  },
  {
   "cell_type": "code",
   "execution_count": 14,
   "metadata": {},
   "outputs": [
    {
     "name": "stdout",
     "output_type": "stream",
     "text": [
      "[[ 1 99  3]\n",
      " [ 4 88  6]\n",
      " [ 7 77  9]\n",
      " [10 66 12]]\n"
     ]
    }
   ],
   "source": [
    "kx[:,1] = np.array([99, 88, 77, 66])\n",
    "print(kx)"
   ]
  },
  {
   "cell_type": "code",
   "execution_count": 15,
   "metadata": {},
   "outputs": [
    {
     "name": "stdout",
     "output_type": "stream",
     "text": [
      "[[0 0 0]\n",
      " [0 0 0]\n",
      " [0 0 0]\n",
      " [0 0 0]]\n"
     ]
    }
   ],
   "source": [
    "matr= np.array([[0]*3]*4)\n",
    "print(matr)"
   ]
  },
  {
   "cell_type": "code",
   "execution_count": 16,
   "metadata": {},
   "outputs": [
    {
     "name": "stdout",
     "output_type": "stream",
     "text": [
      "[[ 1 99  3]\n",
      " [ 4 88  6]\n",
      " [ 7 77  9]\n",
      " [10 66 12]]\n"
     ]
    }
   ],
   "source": [
    "print(kx)"
   ]
  },
  {
   "cell_type": "code",
   "execution_count": 17,
   "metadata": {},
   "outputs": [
    {
     "name": "stdout",
     "output_type": "stream",
     "text": [
      "[[ 1 99  3]\n",
      " [ 4 88  6]]\n"
     ]
    }
   ],
   "source": [
    "print(kx[:-2, :])"
   ]
  },
  {
   "cell_type": "code",
   "execution_count": 24,
   "metadata": {},
   "outputs": [],
   "source": [
    "kx = np.array([[1, 2, 3], [4, 5, 6], [7, 8, 9], [10, 11, 12]])\n",
    "jh = kx[0:2, :].reshape(1, 6)"
   ]
  },
  {
   "cell_type": "code",
   "execution_count": 26,
   "metadata": {},
   "outputs": [
    {
     "name": "stdout",
     "output_type": "stream",
     "text": [
      "[[1 2 3 4 5 6]]\n"
     ]
    }
   ],
   "source": [
    "print(jh)"
   ]
  },
  {
   "cell_type": "code",
   "execution_count": 27,
   "metadata": {},
   "outputs": [
    {
     "name": "stdout",
     "output_type": "stream",
     "text": [
      "[[ 1  2  3]\n",
      " [ 4  5  6]\n",
      " [ 7  8  9]\n",
      " [10 11 12]]\n"
     ]
    }
   ],
   "source": [
    "print(kx)"
   ]
  },
  {
   "cell_type": "code",
   "execution_count": 31,
   "metadata": {},
   "outputs": [
    {
     "name": "stdout",
     "output_type": "stream",
     "text": [
      "[[1. 2. 3. 4. 5. 6.]]\n"
     ]
    }
   ],
   "source": [
    "print(np.asarray(jh, dtype = float))"
   ]
  },
  {
   "cell_type": "code",
   "execution_count": 53,
   "metadata": {},
   "outputs": [],
   "source": [
    "\n",
    "def window_rms(a, window_size):\n",
    "  a2 = np.power(a,2)\n",
    "  window = 1.0*np.ones(window_size)\n",
    "  return np.sqrt(np.convolve(a2, window, 'valid'))/float(window_size)"
   ]
  },
  {
   "cell_type": "code",
   "execution_count": 54,
   "metadata": {},
   "outputs": [
    {
     "name": "stdout",
     "output_type": "stream",
     "text": [
      "[11.01135777 11.10180166]\n"
     ]
    }
   ],
   "source": [
    "a = np.array([1, 22, 3])\n",
    "j = window_rms(a, 2)\n",
    "print(j)"
   ]
  },
  {
   "cell_type": "code",
   "execution_count": 57,
   "metadata": {},
   "outputs": [
    {
     "name": "stdout",
     "output_type": "stream",
     "text": [
      "[7.40870359]\n",
      "[array([7.40870359]), array([4.64279609])]\n"
     ]
    }
   ],
   "source": [
    "a = np.array([1, 22, 3, 7, 8, 9])\n",
    "arrs = np.split(a, 2)\n",
    "p = [window_rms(x, 3) for x in arrs]\n",
    "kk = window_rms(np.array([1, 22, 3]), 3)\n",
    "print(kk)\n",
    "print(p)"
   ]
  },
  {
   "cell_type": "code",
   "execution_count": 38,
   "metadata": {},
   "outputs": [
    {
     "name": "stdout",
     "output_type": "stream",
     "text": [
      "[[  1   2   3  10  20  30]\n",
      " [  4   5   6  40  50  60]\n",
      " [  7   8   9  70  80  90]\n",
      " [ 10  11  12 100 110 120]]\n"
     ]
    }
   ],
   "source": [
    "kx = np.array([[1, 2, 3], [4, 5, 6], [7, 8, 9], [10, 11, 12]])\n",
    "dg = 10*np.array([[1, 2, 3], [4, 5, 6], [7, 8, 9], [10, 11, 12]])\n",
    "kkk = np.hstack((kx, dg))\n",
    "print(kkk)"
   ]
  },
  {
   "cell_type": "code",
   "execution_count": 52,
   "metadata": {},
   "outputs": [
    {
     "name": "stdout",
     "output_type": "stream",
     "text": [
      "[[1 4]\n",
      " [2 5]\n",
      " [3 6]]\n"
     ]
    }
   ],
   "source": [
    "op = np.array([1, 2, 3])\n",
    "opp = np.array([4, 5, 6])\n",
    "print(np.array((op, opp)).T)"
   ]
  },
  {
   "cell_type": "code",
   "execution_count": 42,
   "metadata": {},
   "outputs": [
    {
     "name": "stdout",
     "output_type": "stream",
     "text": [
      "(2, 3)\n"
     ]
    }
   ],
   "source": [
    "ll = np.array((op, opp))\n",
    "print(ll.shape)"
   ]
  },
  {
   "cell_type": "code",
   "execution_count": 43,
   "metadata": {},
   "outputs": [
    {
     "name": "stdout",
     "output_type": "stream",
     "text": [
      "<zip object at 0x7f7f53052af0>\n"
     ]
    }
   ],
   "source": [
    "zz = zip(op, opp)\n",
    "print(zz)"
   ]
  },
  {
   "cell_type": "code",
   "execution_count": 44,
   "metadata": {},
   "outputs": [
    {
     "name": "stdout",
     "output_type": "stream",
     "text": [
      "<zip object at 0x7f7f53052af0>\n"
     ]
    }
   ],
   "source": [
    "print(np.array(zz))"
   ]
  },
  {
   "cell_type": "code",
   "execution_count": 50,
   "metadata": {},
   "outputs": [
    {
     "name": "stdout",
     "output_type": "stream",
     "text": [
      "[[1 4]\n",
      " [2 5]\n",
      " [3 6]]\n"
     ]
    }
   ],
   "source": [
    "jj = np.vstack((op, opp)).T\n",
    "print(jj)"
   ]
  },
  {
   "cell_type": "code",
   "execution_count": 62,
   "metadata": {},
   "outputs": [
    {
     "name": "stdout",
     "output_type": "stream",
     "text": [
      "(1, 27, 27, 1)\n"
     ]
    }
   ],
   "source": [
    "x = [np.zeros((1,27,27,1))] * 2\n",
    "print((x[1]).shape)"
   ]
  },
  {
   "cell_type": "code",
   "execution_count": null,
   "metadata": {},
   "outputs": [],
   "source": []
  }
 ],
 "metadata": {
  "kernelspec": {
   "display_name": "Python 3",
   "language": "python",
   "name": "python3"
  },
  "language_info": {
   "codemirror_mode": {
    "name": "ipython",
    "version": 3
   },
   "file_extension": ".py",
   "mimetype": "text/x-python",
   "name": "python",
   "nbconvert_exporter": "python",
   "pygments_lexer": "ipython3",
   "version": "3.7.6"
  }
 },
 "nbformat": 4,
 "nbformat_minor": 4
}
