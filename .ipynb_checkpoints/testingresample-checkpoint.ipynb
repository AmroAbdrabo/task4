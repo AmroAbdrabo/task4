{
 "cells": [
  {
   "cell_type": "code",
   "execution_count": 1,
   "metadata": {},
   "outputs": [
    {
     "name": "stdout",
     "output_type": "stream",
     "text": [
      "Bootstrap Sample: [0.6, 0.4, 0.5, 0.1]\n",
      "OOB Sample: [0.2, 0.3]\n"
     ]
    }
   ],
   "source": [
    "# scikit-learn bootstrap\n",
    "from sklearn.utils import resample\n",
    "# data sample\n",
    "data = [0.1, 0.2, 0.3, 0.4, 0.5, 0.6]\n",
    "# prepare bootstrap sample\n",
    "boot = resample(data, replace=True, n_samples=4, random_state=1)\n",
    "print('Bootstrap Sample: %s' % boot)\n",
    "# out of bag observations\n",
    "oob = [x for x in data if x not in boot]\n",
    "print('OOB Sample: %s' % oob)"
   ]
  },
  {
   "cell_type": "code",
   "execution_count": 6,
   "metadata": {},
   "outputs": [
    {
     "name": "stdout",
     "output_type": "stream",
     "text": [
      "Bootstrap Sample: [[1.1, 1.2, 1.3, 1.4, 1.5, 1.6], [1.1, 1.2, 1.3, 1.4, 1.5, 1.6], [0.1, 0.2, 0.3, 0.4, 0.5, 0.6], [0.1, 0.2, 0.3, 0.4, 0.5, 0.6], [1.1, 1.2, 1.3, 1.4, 1.5, 1.6], [1.1, 1.2, 1.3, 1.4, 1.5, 1.6], [1.1, 1.2, 1.3, 1.4, 1.5, 1.6], [1.1, 1.2, 1.3, 1.4, 1.5, 1.6]]\n",
      "OOB Sample: []\n"
     ]
    }
   ],
   "source": [
    "# data sample\n",
    "data = [[0.1, 0.2, 0.3, 0.4, 0.5, 0.6], [1.1, 1.2, 1.3, 1.4, 1.5, 1.6]]\n",
    "# prepare bootstrap sample\n",
    "boot = resample(data, replace=True, n_samples=8, random_state=1)\n",
    "print('Bootstrap Sample: %s' % boot)\n",
    "# out of bag observations\n",
    "oob = [x for x in data if x not in boot]\n",
    "print('OOB Sample: %s' % oob)"
   ]
  },
  {
   "cell_type": "code",
   "execution_count": 7,
   "metadata": {},
   "outputs": [
    {
     "name": "stdout",
     "output_type": "stream",
     "text": [
      "{1: [12, 4, 55], 0: [22, 43, 55]}\n"
     ]
    }
   ],
   "source": [
    "dict_samples = {}\n",
    "dict_samples[1] = [12, 4, 55]\n",
    "dict_samples[0] = [22, 43, 55]\n",
    "print(dict_samples)"
   ]
  },
  {
   "cell_type": "code",
   "execution_count": 8,
   "metadata": {},
   "outputs": [],
   "source": [
    "import numpy as np"
   ]
  },
  {
   "cell_type": "code",
   "execution_count": 9,
   "metadata": {},
   "outputs": [
    {
     "name": "stdout",
     "output_type": "stream",
     "text": [
      "[[1 2 3]\n",
      " [4 5 6]]\n",
      "*********\n",
      "[[1 4]\n",
      " [2 5]\n",
      " [3 6]]\n"
     ]
    }
   ],
   "source": [
    "kk = np.array([[1, 2, 3], [4, 5, 6]])\n",
    "print(kk)\n",
    "print(\"*********\")\n",
    "print(kk.T)"
   ]
  },
  {
   "cell_type": "code",
   "execution_count": 10,
   "metadata": {},
   "outputs": [
    {
     "name": "stdout",
     "output_type": "stream",
     "text": [
      "[[ 1  2  3]\n",
      " [10 11 12]]\n"
     ]
    }
   ],
   "source": [
    "kx = np.array([[1, 2, 3], [4, 5, 6], [7, 8, 9], [10, 11, 12]])\n",
    "idxx = np.array([0, 3])\n",
    "jx = kx[idxx]\n",
    "print(jx)"
   ]
  },
  {
   "cell_type": "code",
   "execution_count": 14,
   "metadata": {},
   "outputs": [
    {
     "name": "stdout",
     "output_type": "stream",
     "text": [
      "[[ 1 99  3]\n",
      " [ 4 88  6]\n",
      " [ 7 77  9]\n",
      " [10 66 12]]\n"
     ]
    }
   ],
   "source": [
    "kx[:,1] = np.array([99, 88, 77, 66])\n",
    "print(kx)"
   ]
  },
  {
   "cell_type": "code",
   "execution_count": 15,
   "metadata": {},
   "outputs": [
    {
     "name": "stdout",
     "output_type": "stream",
     "text": [
      "[[0 0 0]\n",
      " [0 0 0]\n",
      " [0 0 0]\n",
      " [0 0 0]]\n"
     ]
    }
   ],
   "source": [
    "matr= np.array([[0]*3]*4)\n",
    "print(matr)"
   ]
  },
  {
   "cell_type": "code",
   "execution_count": 16,
   "metadata": {},
   "outputs": [
    {
     "name": "stdout",
     "output_type": "stream",
     "text": [
      "[[ 1 99  3]\n",
      " [ 4 88  6]\n",
      " [ 7 77  9]\n",
      " [10 66 12]]\n"
     ]
    }
   ],
   "source": [
    "print(kx)"
   ]
  },
  {
   "cell_type": "code",
   "execution_count": 17,
   "metadata": {},
   "outputs": [
    {
     "name": "stdout",
     "output_type": "stream",
     "text": [
      "[[ 1 99  3]\n",
      " [ 4 88  6]]\n"
     ]
    }
   ],
   "source": [
    "print(kx[:-2, :])"
   ]
  },
  {
   "cell_type": "code",
   "execution_count": 24,
   "metadata": {},
   "outputs": [],
   "source": [
    "kx = np.array([[1, 2, 3], [4, 5, 6], [7, 8, 9], [10, 11, 12]])\n",
    "jh = kx[0:2, :].reshape(1, 6)"
   ]
  },
  {
   "cell_type": "code",
   "execution_count": 26,
   "metadata": {},
   "outputs": [
    {
     "name": "stdout",
     "output_type": "stream",
     "text": [
      "[[1 2 3 4 5 6]]\n"
     ]
    }
   ],
   "source": [
    "print(jh)"
   ]
  },
  {
   "cell_type": "code",
   "execution_count": 27,
   "metadata": {},
   "outputs": [
    {
     "name": "stdout",
     "output_type": "stream",
     "text": [
      "[[ 1  2  3]\n",
      " [ 4  5  6]\n",
      " [ 7  8  9]\n",
      " [10 11 12]]\n"
     ]
    }
   ],
   "source": [
    "print(kx)"
   ]
  },
  {
   "cell_type": "code",
   "execution_count": 31,
   "metadata": {},
   "outputs": [
    {
     "name": "stdout",
     "output_type": "stream",
     "text": [
      "[[1. 2. 3. 4. 5. 6.]]\n"
     ]
    }
   ],
   "source": [
    "print(np.asarray(jh, dtype = float))"
   ]
  },
  {
   "cell_type": "code",
   "execution_count": 53,
   "metadata": {},
   "outputs": [],
   "source": [
    "\n",
    "def window_rms(a, window_size):\n",
    "  a2 = np.power(a,2)\n",
    "  window = 1.0*np.ones(window_size)\n",
    "  return np.sqrt(np.convolve(a2, window, 'valid'))/float(window_size)"
   ]
  },
  {
   "cell_type": "code",
   "execution_count": 54,
   "metadata": {},
   "outputs": [
    {
     "name": "stdout",
     "output_type": "stream",
     "text": [
      "[11.01135777 11.10180166]\n"
     ]
    }
   ],
   "source": [
    "a = np.array([1, 22, 3])\n",
    "j = window_rms(a, 2)\n",
    "print(j)"
   ]
  },
  {
   "cell_type": "code",
   "execution_count": 57,
   "metadata": {},
   "outputs": [
    {
     "name": "stdout",
     "output_type": "stream",
     "text": [
      "[7.40870359]\n",
      "[array([7.40870359]), array([4.64279609])]\n"
     ]
    }
   ],
   "source": [
    "a = np.array([1, 22, 3, 7, 8, 9])\n",
    "arrs = np.split(a, 2)\n",
    "p = [window_rms(x, 3) for x in arrs]\n",
    "kk = window_rms(np.array([1, 22, 3]), 3)\n",
    "print(kk)\n",
    "print(p)"
   ]
  },
  {
   "cell_type": "code",
   "execution_count": 38,
   "metadata": {},
   "outputs": [
    {
     "name": "stdout",
     "output_type": "stream",
     "text": [
      "[[  1   2   3  10  20  30]\n",
      " [  4   5   6  40  50  60]\n",
      " [  7   8   9  70  80  90]\n",
      " [ 10  11  12 100 110 120]]\n"
     ]
    }
   ],
   "source": [
    "kx = np.array([[1, 2, 3], [4, 5, 6], [7, 8, 9], [10, 11, 12]])\n",
    "dg = 10*np.array([[1, 2, 3], [4, 5, 6], [7, 8, 9], [10, 11, 12]])\n",
    "kkk = np.hstack((kx, dg))\n",
    "print(kkk)"
   ]
  },
  {
   "cell_type": "code",
   "execution_count": 52,
   "metadata": {},
   "outputs": [
    {
     "name": "stdout",
     "output_type": "stream",
     "text": [
      "[[1 4]\n",
      " [2 5]\n",
      " [3 6]]\n"
     ]
    }
   ],
   "source": [
    "op = np.array([1, 2, 3])\n",
    "opp = np.array([4, 5, 6])\n",
    "print(np.array((op, opp)).T)"
   ]
  },
  {
   "cell_type": "code",
   "execution_count": 42,
   "metadata": {},
   "outputs": [
    {
     "name": "stdout",
     "output_type": "stream",
     "text": [
      "(2, 3)\n"
     ]
    }
   ],
   "source": [
    "ll = np.array((op, opp))\n",
    "print(ll.shape)"
   ]
  },
  {
   "cell_type": "code",
   "execution_count": 43,
   "metadata": {},
   "outputs": [
    {
     "name": "stdout",
     "output_type": "stream",
     "text": [
      "<zip object at 0x7f7f53052af0>\n"
     ]
    }
   ],
   "source": [
    "zz = zip(op, opp)\n",
    "print(zz)"
   ]
  },
  {
   "cell_type": "code",
   "execution_count": 44,
   "metadata": {},
   "outputs": [
    {
     "name": "stdout",
     "output_type": "stream",
     "text": [
      "<zip object at 0x7f7f53052af0>\n"
     ]
    }
   ],
   "source": [
    "print(np.array(zz))"
   ]
  },
  {
   "cell_type": "code",
   "execution_count": 50,
   "metadata": {},
   "outputs": [
    {
     "name": "stdout",
     "output_type": "stream",
     "text": [
      "[[1 4]\n",
      " [2 5]\n",
      " [3 6]]\n"
     ]
    }
   ],
   "source": [
    "jj = np.vstack((op, opp)).T\n",
    "print(jj)"
   ]
  },
  {
   "cell_type": "code",
   "execution_count": 62,
   "metadata": {},
   "outputs": [
    {
     "name": "stdout",
     "output_type": "stream",
     "text": [
      "(1, 27, 27, 1)\n"
     ]
    }
   ],
   "source": [
    "x = [np.zeros((1,27,27,1))] * 2\n",
    "print((x[1]).shape)"
   ]
  },
  {
   "cell_type": "code",
   "execution_count": 2,
   "metadata": {},
   "outputs": [],
   "source": [
    "import numpy as np\n",
    "hh = np.array([1, 2, 3])"
   ]
  },
  {
   "cell_type": "code",
   "execution_count": 3,
   "metadata": {},
   "outputs": [
    {
     "name": "stdout",
     "output_type": "stream",
     "text": [
      "[[1 2 3 4 5 6 7 8 9]]\n"
     ]
    }
   ],
   "source": [
    "jj = np.array([[1, 2, 3], [4, 5, 6], [7, 8, 9]])\n",
    "print(jj.reshape((1, 9)))"
   ]
  },
  {
   "cell_type": "code",
   "execution_count": 4,
   "metadata": {},
   "outputs": [
    {
     "name": "stdout",
     "output_type": "stream",
     "text": [
      "[[1 2 3 4 5 6 7 8 9]]\n"
     ]
    }
   ],
   "source": [
    "ll = jj.reshape(1, 9)\n",
    "print(ll)"
   ]
  },
  {
   "cell_type": "code",
   "execution_count": 5,
   "metadata": {},
   "outputs": [
    {
     "name": "stdout",
     "output_type": "stream",
     "text": [
      "[1 2 3 4 5 6 7 8 9]\n"
     ]
    }
   ],
   "source": [
    "print(ll[0])"
   ]
  },
  {
   "cell_type": "code",
   "execution_count": 6,
   "metadata": {},
   "outputs": [],
   "source": [
    "f1 = np.array([[1, 2, 3], [4, 5, 6]])\n",
    "f2 = np.array([[7, 8, 9], [10, 11, 12]])\n"
   ]
  },
  {
   "cell_type": "code",
   "execution_count": 7,
   "metadata": {},
   "outputs": [
    {
     "name": "stdout",
     "output_type": "stream",
     "text": [
      "(2, 6)\n"
     ]
    }
   ],
   "source": [
    "eegs_comb = np.hstack((f1, f2))\n",
    "print(eegs_comb.shape)\n",
    "def combine_channels(signals):\n",
    "    sigs = np.split(signals, 2)\n",
    "    eeg1 = sigs[0]\n",
    "    eeg2 = sigs[1]\n",
    "    return np.array((eeg1, eeg2)).T\n",
    "    \n",
    "channels = np.apply_along_axis(combine_channels, axis = 1, arr = eegs_comb)"
   ]
  },
  {
   "cell_type": "code",
   "execution_count": 8,
   "metadata": {},
   "outputs": [
    {
     "name": "stdout",
     "output_type": "stream",
     "text": [
      "[[[ 1  7]\n",
      "  [ 2  8]\n",
      "  [ 3  9]]\n",
      "\n",
      " [[ 4 10]\n",
      "  [ 5 11]\n",
      "  [ 6 12]]]\n"
     ]
    }
   ],
   "source": [
    "print(channels)"
   ]
  },
  {
   "cell_type": "code",
   "execution_count": 9,
   "metadata": {},
   "outputs": [
    {
     "name": "stdout",
     "output_type": "stream",
     "text": [
      "[[ 1  2  3]\n",
      " [ 4  5  6]\n",
      " [ 7  8  9]\n",
      " [10 11 12]]\n"
     ]
    }
   ],
   "source": [
    "f3 = np.vstack((f1,f2))\n",
    "print(f3)"
   ]
  },
  {
   "cell_type": "code",
   "execution_count": 10,
   "metadata": {},
   "outputs": [
    {
     "name": "stdout",
     "output_type": "stream",
     "text": [
      "[[ 7  8  9]\n",
      " [ 4  5  6]\n",
      " [ 1  2  3]\n",
      " [10 11 12]]\n"
     ]
    }
   ],
   "source": [
    "j = np.array([2, 1, 0, 3])\n",
    "fj = f3[j]\n",
    "print(fj)"
   ]
  },
  {
   "cell_type": "code",
   "execution_count": 12,
   "metadata": {},
   "outputs": [
    {
     "name": "stdout",
     "output_type": "stream",
     "text": [
      "[0 1 2 3]\n"
     ]
    }
   ],
   "source": [
    "j2 = np.arange(0, 4)\n",
    "print(j2)"
   ]
  },
  {
   "cell_type": "code",
   "execution_count": 13,
   "metadata": {},
   "outputs": [
    {
     "name": "stdout",
     "output_type": "stream",
     "text": [
      "None\n"
     ]
    }
   ],
   "source": [
    "j22 = np.random.shuffle(j2)\n",
    "print(j22)"
   ]
  },
  {
   "cell_type": "code",
   "execution_count": 14,
   "metadata": {},
   "outputs": [
    {
     "name": "stdout",
     "output_type": "stream",
     "text": [
      "[0 2 1 3]\n"
     ]
    }
   ],
   "source": [
    "print(j2)"
   ]
  },
  {
   "cell_type": "code",
   "execution_count": 15,
   "metadata": {},
   "outputs": [
    {
     "name": "stdout",
     "output_type": "stream",
     "text": [
      "[[ 1  2  3]\n",
      " [ 7  8  9]\n",
      " [ 4  5  6]\n",
      " [10 11 12]]\n"
     ]
    }
   ],
   "source": [
    "print(f3[j2])"
   ]
  },
  {
   "cell_type": "code",
   "execution_count": 16,
   "metadata": {},
   "outputs": [
    {
     "name": "stdout",
     "output_type": "stream",
     "text": [
      "[array([1, 2]), array([3, 4])]\n"
     ]
    }
   ],
   "source": [
    "jj = np.array([1, 2, 3, 4])\n",
    "print(np.split(jj, 2))"
   ]
  },
  {
   "cell_type": "code",
   "execution_count": 20,
   "metadata": {},
   "outputs": [
    {
     "name": "stdout",
     "output_type": "stream",
     "text": [
      "[ 5  6  7  8  9 10 11 12 13 14 15 16]\n"
     ]
    }
   ],
   "source": [
    "kk = np.array([5, 6, 7, 8])\n",
    "kk2 = np.array([9, 10, 11, 12])\n",
    "kk3 = np.array([13, 14, 15, 16])\n",
    "hh = np.concatenate((kk, kk2, kk3))\n",
    "print(hh)"
   ]
  },
  {
   "cell_type": "code",
   "execution_count": 35,
   "metadata": {},
   "outputs": [
    {
     "name": "stdout",
     "output_type": "stream",
     "text": [
      "[1.1900e+00 2.7904e+00 1.0000e-14]\n"
     ]
    }
   ],
   "source": [
    "op = np.array([[0.0]*3]*5, dtype = 'float64')\n",
    "op[0] = np.array([1.19, 2.7904,0.00000000000001])\n",
    "print(op[0])"
   ]
  },
  {
   "cell_type": "code",
   "execution_count": 37,
   "metadata": {},
   "outputs": [
    {
     "name": "stdout",
     "output_type": "stream",
     "text": [
      "[1 4 9]\n"
     ]
    }
   ],
   "source": [
    "x = np.array([1, 2, 3])\n",
    "j = x**2\n",
    "print(j)"
   ]
  },
  {
   "cell_type": "code",
   "execution_count": 1,
   "metadata": {},
   "outputs": [],
   "source": [
    "import numpy as np\n",
    "from matplotlib import pyplot as plt"
   ]
  },
  {
   "cell_type": "code",
   "execution_count": 3,
   "metadata": {},
   "outputs": [
    {
     "data": {
      "image/png": "[encoded data removed]",
      "text/plain": [
       "<Figure size 576x360 with 1 Axes>"
      ]
     },
     "metadata": {
      "needs_background": "light"
     },
     "output_type": "display_data"
    },
    {
     "data": {
      "image/png": "[encoded data removed]",
      "text/plain": [
       "<Figure size 360x288 with 1 Axes>"
      ]
     },
     "metadata": {
      "needs_background": "light"
     },
     "output_type": "display_data"
    }
   ],
   "source": [
    "from scipy import signal\n",
    "\n",
    "\n",
    "time_step = .01\n",
    "time_vec = np.arange(0, 70, time_step)\n",
    "\n",
    "# A signal with a small frequency chirp\n",
    "sig = np.sin(0.5 * np.pi * time_vec * (1 + .1 * time_vec))\n",
    "\n",
    "plt.figure(figsize=(8, 5))\n",
    "plt.plot(time_vec, sig)\n",
    "\n",
    "\n",
    "freqs, psd = signal.welch(sig)\n",
    "\n",
    "plt.figure(figsize=(5, 4))\n",
    "plt.semilogx(freqs, psd)\n",
    "plt.title('PSD: power spectral density')\n",
    "plt.xlabel('Frequency')\n",
    "plt.ylabel('Power')\n",
    "plt.tight_layout()"
   ]
  },
  {
   "cell_type": "code",
   "execution_count": 4,
   "metadata": {},
   "outputs": [
    {
     "name": "stdout",
     "output_type": "stream",
     "text": [
      "(129,)\n"
     ]
    }
   ],
   "source": [
    "print(psd.shape)"
   ]
  },
  {
   "cell_type": "code",
   "execution_count": 5,
   "metadata": {},
   "outputs": [
    {
     "name": "stdout",
     "output_type": "stream",
     "text": [
      "[2.30234238e+00 1.05700454e+01 1.45595722e+01 1.47378245e+01\n",
      " 1.47407175e+01 1.47400392e+01 1.47404119e+01 1.47384081e+01\n",
      " 1.46642218e+01 1.10925161e+01 2.31085580e+00 2.09321470e-02\n",
      " 1.04062364e-03 1.77354015e-04 4.95587575e-05 1.81510053e-05\n",
      " 7.90189906e-06 3.88111880e-06 2.08425975e-06 1.19906991e-06\n",
      " 7.28650973e-07 4.62994615e-07 3.05307451e-07 2.07729127e-07\n",
      " 1.45175888e-07 1.03839940e-07 7.57947847e-08 5.63218688e-08\n",
      " 4.25216910e-08 3.25619541e-08 2.52555942e-08 1.98162535e-08\n",
      " 1.57124737e-08 1.25784969e-08 1.01584171e-08 8.27046986e-09\n",
      " 6.78375610e-09 5.60280178e-09 4.65714848e-09 3.89423037e-09\n",
      " 3.27443222e-09 2.76761654e-09 2.35065369e-09 2.00564583e-09\n",
      " 1.71863622e-09 1.47866229e-09 1.27705425e-09 1.10691135e-09\n",
      " 9.62707349e-10 8.39991224e-10 7.35158345e-10 6.45274372e-10\n",
      " 5.67938830e-10 5.01178765e-10 4.43365347e-10 3.93148117e-10\n",
      " 3.49402847e-10 3.11190003e-10 2.77721477e-10 2.48333820e-10\n",
      " 2.22466620e-10 1.99644939e-10 1.79465016e-10 1.61582553e-10\n",
      " 1.45703109e-10 1.31574170e-10 1.18978597e-10 1.07729183e-10\n",
      " 9.76641206e-11 8.86432187e-11 8.05447302e-11 7.32626863e-11\n",
      " 6.67046503e-11 6.07898186e-11 5.54474133e-11 5.06153144e-11\n",
      " 4.62388969e-11 4.22700368e-11 3.86662621e-11 3.53900223e-11\n",
      " 3.24080625e-11 2.96908840e-11 2.72122784e-11 2.49489239e-11\n",
      " 2.28800366e-11 2.09870683e-11 1.92534416e-11 1.76643208e-11\n",
      " 1.62064111e-11 1.48677840e-11 1.36377222e-11 1.25065870e-11\n",
      " 1.14656983e-11 1.05072309e-11 9.62412323e-12 8.80999600e-12\n",
      " 8.05908041e-12 7.36615558e-12 6.72649154e-12 6.13580024e-12\n",
      " 5.59019102e-12 5.08613144e-12 4.62041177e-12 4.19011517e-12\n",
      " 3.79258814e-12 3.42541722e-12 3.08640583e-12 2.77355518e-12\n",
      " 2.48504588e-12 2.21922270e-12 1.97457997e-12 1.74974907e-12\n",
      " 1.54348688e-12 1.35466583e-12 1.18226463e-12 1.02536013e-12\n",
      " 8.83120174e-13 7.54797049e-13 6.39721696e-13 5.37298785e-13\n",
      " 4.47002046e-13 3.68370518e-13 3.01004969e-13 2.44565148e-13\n",
      " 1.98767139e-13 1.63381434e-13 1.38231154e-13 1.23190910e-13\n",
      " 5.90928996e-14]\n"
     ]
    }
   ],
   "source": [
    "print(psd)"
   ]
  },
  {
   "cell_type": "code",
   "execution_count": 7,
   "metadata": {},
   "outputs": [
    {
     "name": "stdout",
     "output_type": "stream",
     "text": [
      "[2. 4. 8.]\n"
     ]
    }
   ],
   "source": [
    "r = np.array([4, 12, 40])\n",
    "j = np.array([2, 3, 5])\n",
    "print(r/j)"
   ]
  },
  {
   "cell_type": "code",
   "execution_count": null,
   "metadata": {},
   "outputs": [],
   "source": []
  }
 ],
 "metadata": {
  "kernelspec": {
   "display_name": "Python 3",
   "language": "python",
   "name": "python3"
  },
  "language_info": {
   "codemirror_mode": {
    "name": "ipython",
    "version": 3
   },
   "file_extension": ".py",
   "mimetype": "text/x-python",
   "name": "python",
   "nbconvert_exporter": "python",
   "pygments_lexer": "ipython3",
   "version": "3.7.6"
  }
 },
 "nbformat": 4,
 "nbformat_minor": 4
}
